{
  "nbformat": 4,
  "nbformat_minor": 0,
  "metadata": {
    "colab": {
      "provenance": []
    },
    "kernelspec": {
      "name": "python3",
      "display_name": "Python 3"
    },
    "language_info": {
      "name": "python"
    }
  },
  "cells": [
    {
      "cell_type": "code",
      "execution_count": 3,
      "metadata": {
        "colab": {
          "base_uri": "https://localhost:8080/"
        },
        "id": "K7aY3gd3WAD3",
        "outputId": "44f47404-4551-4263-e85b-df16a1070c67"
      },
      "outputs": [
        {
          "output_type": "stream",
          "name": "stdout",
          "text": [
            "Entropia: 1.7427376486136672\n"
          ]
        }
      ],
      "source": [
        "import math\n",
        "\n",
        "def calculate(input):\n",
        "    return -sum(i * math.log2(i) for i in input if i > 0)\n",
        "\n",
        "A= 10/20\n",
        "B= 5/20\n",
        "C= 3/20\n",
        "D= 2/20\n",
        "E= 0/20\n",
        "F= 0/20\n",
        "\n",
        "entropia = calculate([A, B, C, D, E, F])\n",
        "print(f\"Entropia: {entropia}\")"
      ]
    }
  ]
}